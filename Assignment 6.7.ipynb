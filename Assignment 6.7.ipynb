{
 "cells": [
  {
   "cell_type": "markdown",
   "metadata": {},
   "source": [
    "# 6.7"
   ]
  },
  {
   "cell_type": "code",
   "execution_count": 10,
   "metadata": {},
   "outputs": [],
   "source": [
    "import numpy as np\n",
    "import tensorflow as tf"
   ]
  },
  {
   "cell_type": "code",
   "execution_count": 4,
   "metadata": {},
   "outputs": [],
   "source": [
    "from tensorflow.keras.datasets import imdb\n",
    "from tensorflow.keras import preprocessing"
   ]
  },
  {
   "cell_type": "code",
   "execution_count": 5,
   "metadata": {},
   "outputs": [],
   "source": [
    "max_features = 1000\n",
    "maxlen = 20"
   ]
  },
  {
   "cell_type": "code",
   "execution_count": 6,
   "metadata": {},
   "outputs": [
    {
     "name": "stdout",
     "output_type": "stream",
     "text": [
      "Downloading data from https://storage.googleapis.com/tensorflow/tf-keras-datasets/imdb.npz\n",
      "17465344/17464789 [==============================] - 43s 2us/step\n"
     ]
    }
   ],
   "source": [
    "(x_train, y_train), (x_test, y_test) = imdb.load_data (\n",
    "    num_words=max_features)"
   ]
  },
  {
   "cell_type": "code",
   "execution_count": 7,
   "metadata": {},
   "outputs": [],
   "source": [
    "x_train = preprocessing.sequence.pad_sequences (x_train, maxlen = maxlen)\n",
    "x_test = preprocessing.sequence.pad_sequences (x_test, maxlen = maxlen)"
   ]
  },
  {
   "cell_type": "code",
   "execution_count": 12,
   "metadata": {},
   "outputs": [],
   "source": [
    "from tensorflow.keras.models import Sequential\n",
    "from tensorflow.keras.layers import Flatten, Dense\n",
    "from tensorflow.keras.layers import Embedding"
   ]
  },
  {
   "cell_type": "code",
   "execution_count": 13,
   "metadata": {},
   "outputs": [],
   "source": [
    "model = Sequential()\n",
    "model.add(Embedding(1000, 8, input_length = maxlen))\n",
    "model.add(Flatten())"
   ]
  },
  {
   "cell_type": "code",
   "execution_count": 15,
   "metadata": {},
   "outputs": [
    {
     "name": "stdout",
     "output_type": "stream",
     "text": [
      "Model: \"sequential_2\"\n",
      "_________________________________________________________________\n",
      "Layer (type)                 Output Shape              Param #   \n",
      "=================================================================\n",
      "embedding (Embedding)        (None, 20, 8)             8000      \n",
      "_________________________________________________________________\n",
      "flatten (Flatten)            (None, 160)               0         \n",
      "_________________________________________________________________\n",
      "dense (Dense)                (None, 1)                 161       \n",
      "=================================================================\n",
      "Total params: 8,161\n",
      "Trainable params: 8,161\n",
      "Non-trainable params: 0\n",
      "_________________________________________________________________\n"
     ]
    }
   ],
   "source": [
    "model.add(Dense(1, activation = \"sigmoid\"))\n",
    "model.compile(optimizer = \"rmsprop\", loss = \"binary_crossentropy\", metrics = [\"acc\"])\n",
    "model.summary()"
   ]
  },
  {
   "cell_type": "code",
   "execution_count": 16,
   "metadata": {},
   "outputs": [
    {
     "name": "stdout",
     "output_type": "stream",
     "text": [
      "Train on 20000 samples, validate on 5000 samples\n",
      "Epoch 1/10\n",
      "20000/20000 [==============================] - 6s 304us/sample - loss: 0.6826 - acc: 0.5799 - val_loss: 0.6555 - val_acc: 0.6638\n",
      "Epoch 2/10\n",
      "20000/20000 [==============================] - 3s 163us/sample - loss: 0.5930 - acc: 0.7192 - val_loss: 0.5649 - val_acc: 0.7088\n",
      "Epoch 3/10\n",
      "20000/20000 [==============================] - 2s 118us/sample - loss: 0.5183 - acc: 0.7469 - val_loss: 0.5362 - val_acc: 0.7258\n",
      "Epoch 4/10\n",
      "20000/20000 [==============================] - 4s 182us/sample - loss: 0.4889 - acc: 0.7616 - val_loss: 0.5306 - val_acc: 0.7294\n",
      "Epoch 5/10\n",
      "20000/20000 [==============================] - 3s 172us/sample - loss: 0.4729 - acc: 0.7713 - val_loss: 0.5302 - val_acc: 0.7294\n",
      "Epoch 6/10\n",
      "20000/20000 [==============================] - 2s 111us/sample - loss: 0.4617 - acc: 0.7780 - val_loss: 0.5339 - val_acc: 0.7314\n",
      "Epoch 7/10\n",
      "20000/20000 [==============================] - 3s 141us/sample - loss: 0.4523 - acc: 0.7827 - val_loss: 0.5357 - val_acc: 0.7316\n",
      "Epoch 8/10\n",
      "20000/20000 [==============================] - 3s 146us/sample - loss: 0.4433 - acc: 0.7900 - val_loss: 0.5397 - val_acc: 0.7286\n",
      "Epoch 9/10\n",
      "20000/20000 [==============================] - 3s 139us/sample - loss: 0.4351 - acc: 0.7955 - val_loss: 0.5451 - val_acc: 0.7278\n",
      "Epoch 10/10\n",
      "20000/20000 [==============================] - 3s 128us/sample - loss: 0.4271 - acc: 0.8004 - val_loss: 0.5521 - val_acc: 0.7224\n"
     ]
    }
   ],
   "source": [
    "history = model.fit(x_train, y_train,\n",
    "                    epochs = 10,\n",
    "                    batch_size = 32, \n",
    "                    validation_split = 0.2)"
   ]
  },
  {
   "cell_type": "code",
   "execution_count": null,
   "metadata": {},
   "outputs": [],
   "source": []
  }
 ],
 "metadata": {
  "kernelspec": {
   "display_name": "Python 3",
   "language": "python",
   "name": "python3"
  },
  "language_info": {
   "codemirror_mode": {
    "name": "ipython",
    "version": 3
   },
   "file_extension": ".py",
   "mimetype": "text/x-python",
   "name": "python",
   "nbconvert_exporter": "python",
   "pygments_lexer": "ipython3",
   "version": "3.7.4"
  }
 },
 "nbformat": 4,
 "nbformat_minor": 2
}
